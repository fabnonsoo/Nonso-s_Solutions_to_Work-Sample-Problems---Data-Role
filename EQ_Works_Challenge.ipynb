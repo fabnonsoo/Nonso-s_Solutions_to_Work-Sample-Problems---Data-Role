{
 "cells": [
  {
   "cell_type": "markdown",
   "id": "0d2fd97d-1ed0-4bab-8180-8334e6ae16d8",
   "metadata": {},
   "source": [
    "## 1. Cleanup"
   ]
  },
  {
   "cell_type": "code",
   "execution_count": 1,
   "id": "b727c109-9195-41b1-90f9-085181d18bbb",
   "metadata": {},
   "outputs": [],
   "source": [
    "%matplotlib inline\n",
    "import matplotlib.pyplot as plt\n",
    "import pandas as pd\n",
    "import geopandas as gpd\n",
    "import geojson\n",
    "import numpy as np\n",
    "import rasterio\n",
    "import contextily\n",
    "from sklearn.neighbors import BallTree\n",
    "from shapely.geometry import LineString\n",
    "from shapely.geometry import Point, MultiPoint"
   ]
  },
  {
   "cell_type": "code",
   "execution_count": 2,
   "id": "0f105896-63c2-4d14-8b1c-347ece8fabae",
   "metadata": {},
   "outputs": [
    {
     "data": {
      "text/html": [
       "<div>\n",
       "<style scoped>\n",
       "    .dataframe tbody tr th:only-of-type {\n",
       "        vertical-align: middle;\n",
       "    }\n",
       "\n",
       "    .dataframe tbody tr th {\n",
       "        vertical-align: top;\n",
       "    }\n",
       "\n",
       "    .dataframe thead th {\n",
       "        text-align: right;\n",
       "    }\n",
       "</style>\n",
       "<table border=\"1\" class=\"dataframe\">\n",
       "  <thead>\n",
       "    <tr style=\"text-align: right;\">\n",
       "      <th></th>\n",
       "      <th>_ID</th>\n",
       "      <th>TimeSt</th>\n",
       "      <th>Country</th>\n",
       "      <th>Province</th>\n",
       "      <th>City</th>\n",
       "      <th>Latitude</th>\n",
       "      <th>Longitude</th>\n",
       "    </tr>\n",
       "  </thead>\n",
       "  <tbody>\n",
       "    <tr>\n",
       "      <th>0</th>\n",
       "      <td>4516516</td>\n",
       "      <td>2017-06-21 00:00:00.143</td>\n",
       "      <td>CA</td>\n",
       "      <td>ON</td>\n",
       "      <td>Waterloo</td>\n",
       "      <td>43.49347</td>\n",
       "      <td>-80.49123</td>\n",
       "    </tr>\n",
       "    <tr>\n",
       "      <th>1</th>\n",
       "      <td>4516547</td>\n",
       "      <td>2017-06-21 18:00:00.193</td>\n",
       "      <td>CA</td>\n",
       "      <td>ON</td>\n",
       "      <td>London</td>\n",
       "      <td>42.93990</td>\n",
       "      <td>-81.27090</td>\n",
       "    </tr>\n",
       "    <tr>\n",
       "      <th>2</th>\n",
       "      <td>4516550</td>\n",
       "      <td>2017-06-21 15:00:00.287</td>\n",
       "      <td>CA</td>\n",
       "      <td>ON</td>\n",
       "      <td>Guelph</td>\n",
       "      <td>43.57760</td>\n",
       "      <td>-80.22010</td>\n",
       "    </tr>\n",
       "    <tr>\n",
       "      <th>3</th>\n",
       "      <td>4516600</td>\n",
       "      <td>2017-06-21 15:00:00.307</td>\n",
       "      <td>CA</td>\n",
       "      <td>ON</td>\n",
       "      <td>Stratford</td>\n",
       "      <td>43.37160</td>\n",
       "      <td>-80.97730</td>\n",
       "    </tr>\n",
       "    <tr>\n",
       "      <th>4</th>\n",
       "      <td>4516613</td>\n",
       "      <td>2017-06-21 15:00:00.497</td>\n",
       "      <td>CA</td>\n",
       "      <td>ON</td>\n",
       "      <td>Stratford</td>\n",
       "      <td>43.37160</td>\n",
       "      <td>-80.97730</td>\n",
       "    </tr>\n",
       "    <tr>\n",
       "      <th>...</th>\n",
       "      <td>...</td>\n",
       "      <td>...</td>\n",
       "      <td>...</td>\n",
       "      <td>...</td>\n",
       "      <td>...</td>\n",
       "      <td>...</td>\n",
       "      <td>...</td>\n",
       "    </tr>\n",
       "    <tr>\n",
       "      <th>22020</th>\n",
       "      <td>5614801</td>\n",
       "      <td>2017-06-21 12:23:07.880</td>\n",
       "      <td>CA</td>\n",
       "      <td>ON</td>\n",
       "      <td>Saint Catharines</td>\n",
       "      <td>43.16440</td>\n",
       "      <td>-79.24560</td>\n",
       "    </tr>\n",
       "    <tr>\n",
       "      <th>22021</th>\n",
       "      <td>5614888</td>\n",
       "      <td>2017-06-21 08:23:01.793</td>\n",
       "      <td>CA</td>\n",
       "      <td>AB</td>\n",
       "      <td>Calgary</td>\n",
       "      <td>51.02093</td>\n",
       "      <td>-114.10621</td>\n",
       "    </tr>\n",
       "    <tr>\n",
       "      <th>22022</th>\n",
       "      <td>5614909</td>\n",
       "      <td>2017-06-21 00:23:07.903</td>\n",
       "      <td>CA</td>\n",
       "      <td>ON</td>\n",
       "      <td>Whitby</td>\n",
       "      <td>43.88730</td>\n",
       "      <td>-78.94220</td>\n",
       "    </tr>\n",
       "    <tr>\n",
       "      <th>22023</th>\n",
       "      <td>5614912</td>\n",
       "      <td>2017-06-21 11:23:07.953</td>\n",
       "      <td>CA</td>\n",
       "      <td>ON</td>\n",
       "      <td>Oakville</td>\n",
       "      <td>43.49340</td>\n",
       "      <td>-79.71260</td>\n",
       "    </tr>\n",
       "    <tr>\n",
       "      <th>22024</th>\n",
       "      <td>5615006</td>\n",
       "      <td>2017-06-21 17:23:08.033</td>\n",
       "      <td>CA</td>\n",
       "      <td>ON</td>\n",
       "      <td>Oakville</td>\n",
       "      <td>43.43090</td>\n",
       "      <td>-79.77670</td>\n",
       "    </tr>\n",
       "  </tbody>\n",
       "</table>\n",
       "<p>22025 rows × 7 columns</p>\n",
       "</div>"
      ],
      "text/plain": [
       "           _ID                   TimeSt Country Province              City  \\\n",
       "0      4516516  2017-06-21 00:00:00.143      CA       ON          Waterloo   \n",
       "1      4516547  2017-06-21 18:00:00.193      CA       ON            London   \n",
       "2      4516550  2017-06-21 15:00:00.287      CA       ON            Guelph   \n",
       "3      4516600  2017-06-21 15:00:00.307      CA       ON         Stratford   \n",
       "4      4516613  2017-06-21 15:00:00.497      CA       ON         Stratford   \n",
       "...        ...                      ...     ...      ...               ...   \n",
       "22020  5614801  2017-06-21 12:23:07.880      CA       ON  Saint Catharines   \n",
       "22021  5614888  2017-06-21 08:23:01.793      CA       AB           Calgary   \n",
       "22022  5614909  2017-06-21 00:23:07.903      CA       ON            Whitby   \n",
       "22023  5614912  2017-06-21 11:23:07.953      CA       ON          Oakville   \n",
       "22024  5615006  2017-06-21 17:23:08.033      CA       ON          Oakville   \n",
       "\n",
       "       Latitude  Longitude  \n",
       "0      43.49347  -80.49123  \n",
       "1      42.93990  -81.27090  \n",
       "2      43.57760  -80.22010  \n",
       "3      43.37160  -80.97730  \n",
       "4      43.37160  -80.97730  \n",
       "...         ...        ...  \n",
       "22020  43.16440  -79.24560  \n",
       "22021  51.02093 -114.10621  \n",
       "22022  43.88730  -78.94220  \n",
       "22023  43.49340  -79.71260  \n",
       "22024  43.43090  -79.77670  \n",
       "\n",
       "[22025 rows x 7 columns]"
      ]
     },
     "execution_count": 2,
     "metadata": {},
     "output_type": "execute_result"
    }
   ],
   "source": [
    "df = pd.read_csv('DataSample.csv')\n",
    "df"
   ]
  },
  {
   "cell_type": "code",
   "execution_count": 3,
   "id": "31a97d72-a8f5-4515-b801-2dafd85fcc8b",
   "metadata": {},
   "outputs": [
    {
     "name": "stdout",
     "output_type": "stream",
     "text": [
      "<class 'pandas.core.frame.DataFrame'>\n",
      "RangeIndex: 22025 entries, 0 to 22024\n",
      "Data columns (total 7 columns):\n",
      " #   Column     Non-Null Count  Dtype  \n",
      "---  ------     --------------  -----  \n",
      " 0   _ID        22025 non-null  int64  \n",
      " 1    TimeSt    22025 non-null  object \n",
      " 2   Country    22025 non-null  object \n",
      " 3   Province   22025 non-null  object \n",
      " 4   City       22025 non-null  object \n",
      " 5   Latitude   22025 non-null  float64\n",
      " 6   Longitude  22025 non-null  float64\n",
      "dtypes: float64(2), int64(1), object(4)\n",
      "memory usage: 1.2+ MB\n"
     ]
    }
   ],
   "source": [
    "df.info()"
   ]
  },
  {
   "cell_type": "code",
   "execution_count": 4,
   "id": "e7637954-bf69-47fe-9569-d0dbe200d869",
   "metadata": {},
   "outputs": [
    {
     "data": {
      "text/html": [
       "<div>\n",
       "<style scoped>\n",
       "    .dataframe tbody tr th:only-of-type {\n",
       "        vertical-align: middle;\n",
       "    }\n",
       "\n",
       "    .dataframe tbody tr th {\n",
       "        vertical-align: top;\n",
       "    }\n",
       "\n",
       "    .dataframe thead th {\n",
       "        text-align: right;\n",
       "    }\n",
       "</style>\n",
       "<table border=\"1\" class=\"dataframe\">\n",
       "  <thead>\n",
       "    <tr style=\"text-align: right;\">\n",
       "      <th></th>\n",
       "      <th>_ID</th>\n",
       "      <th>Latitude</th>\n",
       "      <th>Longitude</th>\n",
       "    </tr>\n",
       "  </thead>\n",
       "  <tbody>\n",
       "    <tr>\n",
       "      <th>count</th>\n",
       "      <td>2.202500e+04</td>\n",
       "      <td>22025.000000</td>\n",
       "      <td>22025.000000</td>\n",
       "    </tr>\n",
       "    <tr>\n",
       "      <th>mean</th>\n",
       "      <td>5.067292e+06</td>\n",
       "      <td>47.983484</td>\n",
       "      <td>-94.967281</td>\n",
       "    </tr>\n",
       "    <tr>\n",
       "      <th>std</th>\n",
       "      <td>3.175577e+05</td>\n",
       "      <td>4.165093</td>\n",
       "      <td>19.092001</td>\n",
       "    </tr>\n",
       "    <tr>\n",
       "      <th>min</th>\n",
       "      <td>4.516516e+06</td>\n",
       "      <td>6.927420</td>\n",
       "      <td>-136.539570</td>\n",
       "    </tr>\n",
       "    <tr>\n",
       "      <th>25%</th>\n",
       "      <td>4.792159e+06</td>\n",
       "      <td>43.747600</td>\n",
       "      <td>-113.814000</td>\n",
       "    </tr>\n",
       "    <tr>\n",
       "      <th>50%</th>\n",
       "      <td>5.067906e+06</td>\n",
       "      <td>47.798700</td>\n",
       "      <td>-83.018000</td>\n",
       "    </tr>\n",
       "    <tr>\n",
       "      <th>75%</th>\n",
       "      <td>5.342586e+06</td>\n",
       "      <td>51.128560</td>\n",
       "      <td>-79.399100</td>\n",
       "    </tr>\n",
       "    <tr>\n",
       "      <th>max</th>\n",
       "      <td>5.615006e+06</td>\n",
       "      <td>62.827300</td>\n",
       "      <td>125.702200</td>\n",
       "    </tr>\n",
       "  </tbody>\n",
       "</table>\n",
       "</div>"
      ],
      "text/plain": [
       "                _ID      Latitude     Longitude\n",
       "count  2.202500e+04  22025.000000  22025.000000\n",
       "mean   5.067292e+06     47.983484    -94.967281\n",
       "std    3.175577e+05      4.165093     19.092001\n",
       "min    4.516516e+06      6.927420   -136.539570\n",
       "25%    4.792159e+06     43.747600   -113.814000\n",
       "50%    5.067906e+06     47.798700    -83.018000\n",
       "75%    5.342586e+06     51.128560    -79.399100\n",
       "max    5.615006e+06     62.827300    125.702200"
      ]
     },
     "execution_count": 4,
     "metadata": {},
     "output_type": "execute_result"
    }
   ],
   "source": [
    "df.describe()"
   ]
  },
  {
   "cell_type": "code",
   "execution_count": 5,
   "id": "c8a4cbe7-befb-40f6-916b-88229c23535e",
   "metadata": {},
   "outputs": [
    {
     "data": {
      "text/html": [
       "<div>\n",
       "<style scoped>\n",
       "    .dataframe tbody tr th:only-of-type {\n",
       "        vertical-align: middle;\n",
       "    }\n",
       "\n",
       "    .dataframe tbody tr th {\n",
       "        vertical-align: top;\n",
       "    }\n",
       "\n",
       "    .dataframe thead th {\n",
       "        text-align: right;\n",
       "    }\n",
       "</style>\n",
       "<table border=\"1\" class=\"dataframe\">\n",
       "  <thead>\n",
       "    <tr style=\"text-align: right;\">\n",
       "      <th></th>\n",
       "      <th>_ID</th>\n",
       "      <th>TimeSt</th>\n",
       "      <th>Country</th>\n",
       "      <th>Province</th>\n",
       "      <th>City</th>\n",
       "      <th>Latitude</th>\n",
       "      <th>Longitude</th>\n",
       "    </tr>\n",
       "  </thead>\n",
       "  <tbody>\n",
       "    <tr>\n",
       "      <th>0</th>\n",
       "      <td>4516516</td>\n",
       "      <td>2017-06-21 00:00:00.143</td>\n",
       "      <td>CA</td>\n",
       "      <td>ON</td>\n",
       "      <td>Waterloo</td>\n",
       "      <td>43.49347</td>\n",
       "      <td>-80.49123</td>\n",
       "    </tr>\n",
       "    <tr>\n",
       "      <th>169</th>\n",
       "      <td>4524947</td>\n",
       "      <td>2017-06-21 00:00:06.163</td>\n",
       "      <td>CA</td>\n",
       "      <td>ON</td>\n",
       "      <td>Kitchener</td>\n",
       "      <td>43.43060</td>\n",
       "      <td>-80.48770</td>\n",
       "    </tr>\n",
       "    <tr>\n",
       "      <th>17265</th>\n",
       "      <td>5380915</td>\n",
       "      <td>2017-06-21 00:01:02.690</td>\n",
       "      <td>CA</td>\n",
       "      <td>AB</td>\n",
       "      <td>Calgary</td>\n",
       "      <td>51.15880</td>\n",
       "      <td>-113.96360</td>\n",
       "    </tr>\n",
       "    <tr>\n",
       "      <th>401</th>\n",
       "      <td>4536827</td>\n",
       "      <td>2017-06-21 00:01:06.527</td>\n",
       "      <td>CA</td>\n",
       "      <td>ON</td>\n",
       "      <td>Oshawa</td>\n",
       "      <td>43.90635</td>\n",
       "      <td>-78.87251</td>\n",
       "    </tr>\n",
       "    <tr>\n",
       "      <th>17404</th>\n",
       "      <td>5387037</td>\n",
       "      <td>2017-06-21 00:01:39.167</td>\n",
       "      <td>CA</td>\n",
       "      <td>QC</td>\n",
       "      <td>Chibougamau</td>\n",
       "      <td>49.91680</td>\n",
       "      <td>-74.36590</td>\n",
       "    </tr>\n",
       "    <tr>\n",
       "      <th>...</th>\n",
       "      <td>...</td>\n",
       "      <td>...</td>\n",
       "      <td>...</td>\n",
       "      <td>...</td>\n",
       "      <td>...</td>\n",
       "      <td>...</td>\n",
       "      <td>...</td>\n",
       "    </tr>\n",
       "    <tr>\n",
       "      <th>16198</th>\n",
       "      <td>5326962</td>\n",
       "      <td>2017-06-21 22:56:43.763</td>\n",
       "      <td>CA</td>\n",
       "      <td>ON</td>\n",
       "      <td>Etobicoke</td>\n",
       "      <td>43.63931</td>\n",
       "      <td>-79.56384</td>\n",
       "    </tr>\n",
       "    <tr>\n",
       "      <th>16319</th>\n",
       "      <td>5332865</td>\n",
       "      <td>2017-06-21 22:57:20.567</td>\n",
       "      <td>CA</td>\n",
       "      <td>BC</td>\n",
       "      <td>Vanderhoof</td>\n",
       "      <td>54.01646</td>\n",
       "      <td>-124.00783</td>\n",
       "    </tr>\n",
       "    <tr>\n",
       "      <th>16564</th>\n",
       "      <td>5345047</td>\n",
       "      <td>2017-06-21 22:58:31.267</td>\n",
       "      <td>CA</td>\n",
       "      <td>AB</td>\n",
       "      <td>Edmonton</td>\n",
       "      <td>53.54415</td>\n",
       "      <td>-113.53385</td>\n",
       "    </tr>\n",
       "    <tr>\n",
       "      <th>16671</th>\n",
       "      <td>5350538</td>\n",
       "      <td>2017-06-21 22:59:01.293</td>\n",
       "      <td>CA</td>\n",
       "      <td>ON</td>\n",
       "      <td>Oakville</td>\n",
       "      <td>43.45400</td>\n",
       "      <td>-79.69200</td>\n",
       "    </tr>\n",
       "    <tr>\n",
       "      <th>16734</th>\n",
       "      <td>5354023</td>\n",
       "      <td>2017-06-21 22:59:06.503</td>\n",
       "      <td>CA</td>\n",
       "      <td>ON</td>\n",
       "      <td>Toronto</td>\n",
       "      <td>43.67220</td>\n",
       "      <td>-79.40118</td>\n",
       "    </tr>\n",
       "  </tbody>\n",
       "</table>\n",
       "<p>3308 rows × 7 columns</p>\n",
       "</div>"
      ],
      "text/plain": [
       "           _ID                   TimeSt Country Province         City  \\\n",
       "0      4516516  2017-06-21 00:00:00.143      CA       ON     Waterloo   \n",
       "169    4524947  2017-06-21 00:00:06.163      CA       ON    Kitchener   \n",
       "17265  5380915  2017-06-21 00:01:02.690      CA       AB      Calgary   \n",
       "401    4536827  2017-06-21 00:01:06.527      CA       ON       Oshawa   \n",
       "17404  5387037  2017-06-21 00:01:39.167      CA       QC  Chibougamau   \n",
       "...        ...                      ...     ...      ...          ...   \n",
       "16198  5326962  2017-06-21 22:56:43.763      CA       ON    Etobicoke   \n",
       "16319  5332865  2017-06-21 22:57:20.567      CA       BC   Vanderhoof   \n",
       "16564  5345047  2017-06-21 22:58:31.267      CA       AB     Edmonton   \n",
       "16671  5350538  2017-06-21 22:59:01.293      CA       ON     Oakville   \n",
       "16734  5354023  2017-06-21 22:59:06.503      CA       ON      Toronto   \n",
       "\n",
       "       Latitude  Longitude  \n",
       "0      43.49347  -80.49123  \n",
       "169    43.43060  -80.48770  \n",
       "17265  51.15880 -113.96360  \n",
       "401    43.90635  -78.87251  \n",
       "17404  49.91680  -74.36590  \n",
       "...         ...        ...  \n",
       "16198  43.63931  -79.56384  \n",
       "16319  54.01646 -124.00783  \n",
       "16564  53.54415 -113.53385  \n",
       "16671  43.45400  -79.69200  \n",
       "16734  43.67220  -79.40118  \n",
       "\n",
       "[3308 rows x 7 columns]"
      ]
     },
     "execution_count": 5,
     "metadata": {},
     "output_type": "execute_result"
    }
   ],
   "source": [
    "# Cleaning up the sample dataset (data/DataSample.csv) by filtering out those questionable/duplicates request records.\n",
    "df_clean = df.sort_values(' TimeSt').drop_duplicates(['Country', 'Province', 'City', 'Latitude', 'Longitude'], keep=False)\n",
    "df_clean"
   ]
  },
  {
   "cell_type": "code",
   "execution_count": 6,
   "id": "14d4c4c7-6815-46d6-968b-80aea073b92d",
   "metadata": {},
   "outputs": [
    {
     "data": {
      "text/html": [
       "<div>\n",
       "<style scoped>\n",
       "    .dataframe tbody tr th:only-of-type {\n",
       "        vertical-align: middle;\n",
       "    }\n",
       "\n",
       "    .dataframe tbody tr th {\n",
       "        vertical-align: top;\n",
       "    }\n",
       "\n",
       "    .dataframe thead th {\n",
       "        text-align: right;\n",
       "    }\n",
       "</style>\n",
       "<table border=\"1\" class=\"dataframe\">\n",
       "  <thead>\n",
       "    <tr style=\"text-align: right;\">\n",
       "      <th></th>\n",
       "      <th>POIID</th>\n",
       "      <th>Latitude</th>\n",
       "      <th>Longitude</th>\n",
       "    </tr>\n",
       "  </thead>\n",
       "  <tbody>\n",
       "    <tr>\n",
       "      <th>0</th>\n",
       "      <td>POI1</td>\n",
       "      <td>53.546167</td>\n",
       "      <td>-113.485734</td>\n",
       "    </tr>\n",
       "    <tr>\n",
       "      <th>1</th>\n",
       "      <td>POI2</td>\n",
       "      <td>53.546167</td>\n",
       "      <td>-113.485734</td>\n",
       "    </tr>\n",
       "    <tr>\n",
       "      <th>2</th>\n",
       "      <td>POI3</td>\n",
       "      <td>45.521629</td>\n",
       "      <td>-73.566024</td>\n",
       "    </tr>\n",
       "    <tr>\n",
       "      <th>3</th>\n",
       "      <td>POI4</td>\n",
       "      <td>45.224830</td>\n",
       "      <td>-63.232729</td>\n",
       "    </tr>\n",
       "  </tbody>\n",
       "</table>\n",
       "</div>"
      ],
      "text/plain": [
       "  POIID   Latitude   Longitude\n",
       "0  POI1  53.546167 -113.485734\n",
       "1  POI2  53.546167 -113.485734\n",
       "2  POI3  45.521629  -73.566024\n",
       "3  POI4  45.224830  -63.232729"
      ]
     },
     "execution_count": 6,
     "metadata": {},
     "output_type": "execute_result"
    }
   ],
   "source": [
    "df2 = pd.read_csv('POIList.csv');\n",
    "df2.columns = df2.columns.to_series().apply(lambda x: x.strip())  # Removes any KeyError for column index\n",
    "df2"
   ]
  },
  {
   "cell_type": "markdown",
   "id": "3627f45f-c7d3-4704-b92f-7b681e7ab679",
   "metadata": {},
   "source": [
    "## 2. Label"
   ]
  },
  {
   "cell_type": "code",
   "execution_count": 7,
   "id": "6599d4d2-04bb-40d6-9f47-98a173ddc6e0",
   "metadata": {},
   "outputs": [
    {
     "data": {
      "text/html": [
       "<div>\n",
       "<style scoped>\n",
       "    .dataframe tbody tr th:only-of-type {\n",
       "        vertical-align: middle;\n",
       "    }\n",
       "\n",
       "    .dataframe tbody tr th {\n",
       "        vertical-align: top;\n",
       "    }\n",
       "\n",
       "    .dataframe thead th {\n",
       "        text-align: right;\n",
       "    }\n",
       "</style>\n",
       "<table border=\"1\" class=\"dataframe\">\n",
       "  <thead>\n",
       "    <tr style=\"text-align: right;\">\n",
       "      <th></th>\n",
       "      <th>_ID</th>\n",
       "      <th>TimeSt</th>\n",
       "      <th>Country</th>\n",
       "      <th>Province</th>\n",
       "      <th>City</th>\n",
       "      <th>Latitude</th>\n",
       "      <th>Longitude</th>\n",
       "      <th>geometry</th>\n",
       "    </tr>\n",
       "  </thead>\n",
       "  <tbody>\n",
       "    <tr>\n",
       "      <th>0</th>\n",
       "      <td>4516516</td>\n",
       "      <td>2017-06-21 00:00:00.143</td>\n",
       "      <td>CA</td>\n",
       "      <td>ON</td>\n",
       "      <td>Waterloo</td>\n",
       "      <td>43.49347</td>\n",
       "      <td>-80.49123</td>\n",
       "      <td>[43.49347, -80.49123]</td>\n",
       "    </tr>\n",
       "    <tr>\n",
       "      <th>169</th>\n",
       "      <td>4524947</td>\n",
       "      <td>2017-06-21 00:00:06.163</td>\n",
       "      <td>CA</td>\n",
       "      <td>ON</td>\n",
       "      <td>Kitchener</td>\n",
       "      <td>43.43060</td>\n",
       "      <td>-80.48770</td>\n",
       "      <td>[43.4306, -80.4877]</td>\n",
       "    </tr>\n",
       "    <tr>\n",
       "      <th>17265</th>\n",
       "      <td>5380915</td>\n",
       "      <td>2017-06-21 00:01:02.690</td>\n",
       "      <td>CA</td>\n",
       "      <td>AB</td>\n",
       "      <td>Calgary</td>\n",
       "      <td>51.15880</td>\n",
       "      <td>-113.96360</td>\n",
       "      <td>[51.1588, -113.9636]</td>\n",
       "    </tr>\n",
       "    <tr>\n",
       "      <th>401</th>\n",
       "      <td>4536827</td>\n",
       "      <td>2017-06-21 00:01:06.527</td>\n",
       "      <td>CA</td>\n",
       "      <td>ON</td>\n",
       "      <td>Oshawa</td>\n",
       "      <td>43.90635</td>\n",
       "      <td>-78.87251</td>\n",
       "      <td>[43.90635, -78.87251]</td>\n",
       "    </tr>\n",
       "    <tr>\n",
       "      <th>17404</th>\n",
       "      <td>5387037</td>\n",
       "      <td>2017-06-21 00:01:39.167</td>\n",
       "      <td>CA</td>\n",
       "      <td>QC</td>\n",
       "      <td>Chibougamau</td>\n",
       "      <td>49.91680</td>\n",
       "      <td>-74.36590</td>\n",
       "      <td>[49.9168, -74.3659]</td>\n",
       "    </tr>\n",
       "  </tbody>\n",
       "</table>\n",
       "</div>"
      ],
      "text/plain": [
       "           _ID                   TimeSt Country Province         City  \\\n",
       "0      4516516  2017-06-21 00:00:00.143      CA       ON     Waterloo   \n",
       "169    4524947  2017-06-21 00:00:06.163      CA       ON    Kitchener   \n",
       "17265  5380915  2017-06-21 00:01:02.690      CA       AB      Calgary   \n",
       "401    4536827  2017-06-21 00:01:06.527      CA       ON       Oshawa   \n",
       "17404  5387037  2017-06-21 00:01:39.167      CA       QC  Chibougamau   \n",
       "\n",
       "       Latitude  Longitude               geometry  \n",
       "0      43.49347  -80.49123  [43.49347, -80.49123]  \n",
       "169    43.43060  -80.48770    [43.4306, -80.4877]  \n",
       "17265  51.15880 -113.96360   [51.1588, -113.9636]  \n",
       "401    43.90635  -78.87251  [43.90635, -78.87251]  \n",
       "17404  49.91680  -74.36590    [49.9168, -74.3659]  "
      ]
     },
     "execution_count": 7,
     "metadata": {},
     "output_type": "execute_result"
    }
   ],
   "source": [
    "# Assign each request (from data/DataSample.csv) to the closest (i.e., minimum distance) POI (from data/POIList.csv)\n",
    "\n",
    "# Step 1i: Combining Latitude and longitude for both df_clean to create point coordinates/geometry\n",
    "\n",
    "df_clean['geometry'] = df_clean[['Latitude', 'Longitude']].values.tolist()\n",
    "df_clean.head()"
   ]
  },
  {
   "cell_type": "code",
   "execution_count": 8,
   "id": "82c52fcf-b2e4-4555-83fa-3cd7ef40f371",
   "metadata": {},
   "outputs": [
    {
     "data": {
      "text/html": [
       "<div>\n",
       "<style scoped>\n",
       "    .dataframe tbody tr th:only-of-type {\n",
       "        vertical-align: middle;\n",
       "    }\n",
       "\n",
       "    .dataframe tbody tr th {\n",
       "        vertical-align: top;\n",
       "    }\n",
       "\n",
       "    .dataframe thead th {\n",
       "        text-align: right;\n",
       "    }\n",
       "</style>\n",
       "<table border=\"1\" class=\"dataframe\">\n",
       "  <thead>\n",
       "    <tr style=\"text-align: right;\">\n",
       "      <th></th>\n",
       "      <th>_ID</th>\n",
       "      <th>TimeSt</th>\n",
       "      <th>Country</th>\n",
       "      <th>Province</th>\n",
       "      <th>City</th>\n",
       "      <th>Latitude</th>\n",
       "      <th>Longitude</th>\n",
       "      <th>geometry</th>\n",
       "    </tr>\n",
       "  </thead>\n",
       "  <tbody>\n",
       "    <tr>\n",
       "      <th>0</th>\n",
       "      <td>4516516</td>\n",
       "      <td>2017-06-21 00:00:00.143</td>\n",
       "      <td>CA</td>\n",
       "      <td>ON</td>\n",
       "      <td>Waterloo</td>\n",
       "      <td>43.49347</td>\n",
       "      <td>-80.49123</td>\n",
       "      <td>POINT (43.49347 -80.49123)</td>\n",
       "    </tr>\n",
       "    <tr>\n",
       "      <th>169</th>\n",
       "      <td>4524947</td>\n",
       "      <td>2017-06-21 00:00:06.163</td>\n",
       "      <td>CA</td>\n",
       "      <td>ON</td>\n",
       "      <td>Kitchener</td>\n",
       "      <td>43.43060</td>\n",
       "      <td>-80.48770</td>\n",
       "      <td>POINT (43.4306 -80.4877)</td>\n",
       "    </tr>\n",
       "    <tr>\n",
       "      <th>17265</th>\n",
       "      <td>5380915</td>\n",
       "      <td>2017-06-21 00:01:02.690</td>\n",
       "      <td>CA</td>\n",
       "      <td>AB</td>\n",
       "      <td>Calgary</td>\n",
       "      <td>51.15880</td>\n",
       "      <td>-113.96360</td>\n",
       "      <td>POINT (51.1588 -113.9636)</td>\n",
       "    </tr>\n",
       "    <tr>\n",
       "      <th>401</th>\n",
       "      <td>4536827</td>\n",
       "      <td>2017-06-21 00:01:06.527</td>\n",
       "      <td>CA</td>\n",
       "      <td>ON</td>\n",
       "      <td>Oshawa</td>\n",
       "      <td>43.90635</td>\n",
       "      <td>-78.87251</td>\n",
       "      <td>POINT (43.90635 -78.87251000000001)</td>\n",
       "    </tr>\n",
       "    <tr>\n",
       "      <th>17404</th>\n",
       "      <td>5387037</td>\n",
       "      <td>2017-06-21 00:01:39.167</td>\n",
       "      <td>CA</td>\n",
       "      <td>QC</td>\n",
       "      <td>Chibougamau</td>\n",
       "      <td>49.91680</td>\n",
       "      <td>-74.36590</td>\n",
       "      <td>POINT (49.9168 -74.3659)</td>\n",
       "    </tr>\n",
       "  </tbody>\n",
       "</table>\n",
       "</div>"
      ],
      "text/plain": [
       "           _ID                   TimeSt Country Province         City  \\\n",
       "0      4516516  2017-06-21 00:00:00.143      CA       ON     Waterloo   \n",
       "169    4524947  2017-06-21 00:00:06.163      CA       ON    Kitchener   \n",
       "17265  5380915  2017-06-21 00:01:02.690      CA       AB      Calgary   \n",
       "401    4536827  2017-06-21 00:01:06.527      CA       ON       Oshawa   \n",
       "17404  5387037  2017-06-21 00:01:39.167      CA       QC  Chibougamau   \n",
       "\n",
       "       Latitude  Longitude                             geometry  \n",
       "0      43.49347  -80.49123           POINT (43.49347 -80.49123)  \n",
       "169    43.43060  -80.48770             POINT (43.4306 -80.4877)  \n",
       "17265  51.15880 -113.96360            POINT (51.1588 -113.9636)  \n",
       "401    43.90635  -78.87251  POINT (43.90635 -78.87251000000001)  \n",
       "17404  49.91680  -74.36590             POINT (49.9168 -74.3659)  "
      ]
     },
     "execution_count": 8,
     "metadata": {},
     "output_type": "execute_result"
    }
   ],
   "source": [
    "# Step 1ii: Change the coordinates/geometry to a geoPlot\n",
    "\n",
    "df_clean['geometry'] = df_clean['geometry'].apply(Point)\n",
    "df_clean.head()"
   ]
  },
  {
   "cell_type": "code",
   "execution_count": 9,
   "id": "77bbed36-4203-4fe3-9461-b509a57b11f9",
   "metadata": {},
   "outputs": [
    {
     "data": {
      "text/html": [
       "<div>\n",
       "<style scoped>\n",
       "    .dataframe tbody tr th:only-of-type {\n",
       "        vertical-align: middle;\n",
       "    }\n",
       "\n",
       "    .dataframe tbody tr th {\n",
       "        vertical-align: top;\n",
       "    }\n",
       "\n",
       "    .dataframe thead th {\n",
       "        text-align: right;\n",
       "    }\n",
       "</style>\n",
       "<table border=\"1\" class=\"dataframe\">\n",
       "  <thead>\n",
       "    <tr style=\"text-align: right;\">\n",
       "      <th></th>\n",
       "      <th>POIID</th>\n",
       "      <th>Latitude</th>\n",
       "      <th>Longitude</th>\n",
       "      <th>geometry</th>\n",
       "    </tr>\n",
       "  </thead>\n",
       "  <tbody>\n",
       "    <tr>\n",
       "      <th>0</th>\n",
       "      <td>POI1</td>\n",
       "      <td>53.546167</td>\n",
       "      <td>-113.485734</td>\n",
       "      <td>[53.546167, -113.485734]</td>\n",
       "    </tr>\n",
       "    <tr>\n",
       "      <th>1</th>\n",
       "      <td>POI2</td>\n",
       "      <td>53.546167</td>\n",
       "      <td>-113.485734</td>\n",
       "      <td>[53.546167, -113.485734]</td>\n",
       "    </tr>\n",
       "    <tr>\n",
       "      <th>2</th>\n",
       "      <td>POI3</td>\n",
       "      <td>45.521629</td>\n",
       "      <td>-73.566024</td>\n",
       "      <td>[45.521629, -73.566024]</td>\n",
       "    </tr>\n",
       "    <tr>\n",
       "      <th>3</th>\n",
       "      <td>POI4</td>\n",
       "      <td>45.224830</td>\n",
       "      <td>-63.232729</td>\n",
       "      <td>[45.22483, -63.232729]</td>\n",
       "    </tr>\n",
       "  </tbody>\n",
       "</table>\n",
       "</div>"
      ],
      "text/plain": [
       "  POIID   Latitude   Longitude                  geometry\n",
       "0  POI1  53.546167 -113.485734  [53.546167, -113.485734]\n",
       "1  POI2  53.546167 -113.485734  [53.546167, -113.485734]\n",
       "2  POI3  45.521629  -73.566024   [45.521629, -73.566024]\n",
       "3  POI4  45.224830  -63.232729    [45.22483, -63.232729]"
      ]
     },
     "execution_count": 9,
     "metadata": {},
     "output_type": "execute_result"
    }
   ],
   "source": [
    "# Step 1iii: Combining Latitude and longitude for both df2 to create point coordinates/geometry\n",
    "\n",
    "df2['geometry'] = df2[['Latitude', 'Longitude']].values.tolist()\n",
    "df2.head()"
   ]
  },
  {
   "cell_type": "code",
   "execution_count": 10,
   "id": "53c2c840-c344-4946-a82b-6dedaf14abe8",
   "metadata": {},
   "outputs": [
    {
     "data": {
      "text/html": [
       "<div>\n",
       "<style scoped>\n",
       "    .dataframe tbody tr th:only-of-type {\n",
       "        vertical-align: middle;\n",
       "    }\n",
       "\n",
       "    .dataframe tbody tr th {\n",
       "        vertical-align: top;\n",
       "    }\n",
       "\n",
       "    .dataframe thead th {\n",
       "        text-align: right;\n",
       "    }\n",
       "</style>\n",
       "<table border=\"1\" class=\"dataframe\">\n",
       "  <thead>\n",
       "    <tr style=\"text-align: right;\">\n",
       "      <th></th>\n",
       "      <th>POIID</th>\n",
       "      <th>Latitude</th>\n",
       "      <th>Longitude</th>\n",
       "      <th>geometry</th>\n",
       "    </tr>\n",
       "  </thead>\n",
       "  <tbody>\n",
       "    <tr>\n",
       "      <th>0</th>\n",
       "      <td>POI1</td>\n",
       "      <td>53.546167</td>\n",
       "      <td>-113.485734</td>\n",
       "      <td>POINT (53.546167 -113.485734)</td>\n",
       "    </tr>\n",
       "    <tr>\n",
       "      <th>1</th>\n",
       "      <td>POI2</td>\n",
       "      <td>53.546167</td>\n",
       "      <td>-113.485734</td>\n",
       "      <td>POINT (53.546167 -113.485734)</td>\n",
       "    </tr>\n",
       "    <tr>\n",
       "      <th>2</th>\n",
       "      <td>POI3</td>\n",
       "      <td>45.521629</td>\n",
       "      <td>-73.566024</td>\n",
       "      <td>POINT (45.521629 -73.566024)</td>\n",
       "    </tr>\n",
       "    <tr>\n",
       "      <th>3</th>\n",
       "      <td>POI4</td>\n",
       "      <td>45.224830</td>\n",
       "      <td>-63.232729</td>\n",
       "      <td>POINT (45.22483 -63.232729)</td>\n",
       "    </tr>\n",
       "  </tbody>\n",
       "</table>\n",
       "</div>"
      ],
      "text/plain": [
       "  POIID   Latitude   Longitude                       geometry\n",
       "0  POI1  53.546167 -113.485734  POINT (53.546167 -113.485734)\n",
       "1  POI2  53.546167 -113.485734  POINT (53.546167 -113.485734)\n",
       "2  POI3  45.521629  -73.566024   POINT (45.521629 -73.566024)\n",
       "3  POI4  45.224830  -63.232729    POINT (45.22483 -63.232729)"
      ]
     },
     "execution_count": 10,
     "metadata": {},
     "output_type": "execute_result"
    }
   ],
   "source": [
    "# Step 1iv: Change the coordinates/geometry to a geoPlot\n",
    "\n",
    "df2['geometry'] = df2['geometry'].apply(Point)\n",
    "df2.head()"
   ]
  },
  {
   "cell_type": "code",
   "execution_count": 11,
   "id": "6e479f5d-1c82-4452-88ac-ee7085482410",
   "metadata": {},
   "outputs": [
    {
     "data": {
      "text/plain": [
       "pandas.core.frame.DataFrame"
      ]
     },
     "execution_count": 11,
     "metadata": {},
     "output_type": "execute_result"
    }
   ],
   "source": [
    "# Step 2i: Checking the type of the df_clean dataframe and column coordinates/geometry of df_clean data\n",
    "type(df_clean)"
   ]
  },
  {
   "cell_type": "code",
   "execution_count": 12,
   "id": "1f5f5962-1a53-45e2-9727-493752409647",
   "metadata": {},
   "outputs": [
    {
     "data": {
      "text/plain": [
       "pandas.core.series.Series"
      ]
     },
     "execution_count": 12,
     "metadata": {},
     "output_type": "execute_result"
    }
   ],
   "source": [
    "type(df_clean['geometry'])"
   ]
  },
  {
   "cell_type": "code",
   "execution_count": 13,
   "id": "e007ce05-225c-401b-9f69-3a82bab8f7a8",
   "metadata": {},
   "outputs": [
    {
     "data": {
      "text/html": [
       "<div>\n",
       "<style scoped>\n",
       "    .dataframe tbody tr th:only-of-type {\n",
       "        vertical-align: middle;\n",
       "    }\n",
       "\n",
       "    .dataframe tbody tr th {\n",
       "        vertical-align: top;\n",
       "    }\n",
       "\n",
       "    .dataframe thead th {\n",
       "        text-align: right;\n",
       "    }\n",
       "</style>\n",
       "<table border=\"1\" class=\"dataframe\">\n",
       "  <thead>\n",
       "    <tr style=\"text-align: right;\">\n",
       "      <th></th>\n",
       "      <th>_ID</th>\n",
       "      <th>TimeSt</th>\n",
       "      <th>Country</th>\n",
       "      <th>Province</th>\n",
       "      <th>City</th>\n",
       "      <th>Latitude</th>\n",
       "      <th>Longitude</th>\n",
       "      <th>geometry</th>\n",
       "    </tr>\n",
       "  </thead>\n",
       "  <tbody>\n",
       "    <tr>\n",
       "      <th>0</th>\n",
       "      <td>4516516</td>\n",
       "      <td>2017-06-21 00:00:00.143</td>\n",
       "      <td>CA</td>\n",
       "      <td>ON</td>\n",
       "      <td>Waterloo</td>\n",
       "      <td>43.49347</td>\n",
       "      <td>-80.49123</td>\n",
       "      <td>POINT (43.493 -80.491)</td>\n",
       "    </tr>\n",
       "    <tr>\n",
       "      <th>169</th>\n",
       "      <td>4524947</td>\n",
       "      <td>2017-06-21 00:00:06.163</td>\n",
       "      <td>CA</td>\n",
       "      <td>ON</td>\n",
       "      <td>Kitchener</td>\n",
       "      <td>43.43060</td>\n",
       "      <td>-80.48770</td>\n",
       "      <td>POINT (43.431 -80.488)</td>\n",
       "    </tr>\n",
       "    <tr>\n",
       "      <th>17265</th>\n",
       "      <td>5380915</td>\n",
       "      <td>2017-06-21 00:01:02.690</td>\n",
       "      <td>CA</td>\n",
       "      <td>AB</td>\n",
       "      <td>Calgary</td>\n",
       "      <td>51.15880</td>\n",
       "      <td>-113.96360</td>\n",
       "      <td>POINT (51.159 -113.964)</td>\n",
       "    </tr>\n",
       "    <tr>\n",
       "      <th>401</th>\n",
       "      <td>4536827</td>\n",
       "      <td>2017-06-21 00:01:06.527</td>\n",
       "      <td>CA</td>\n",
       "      <td>ON</td>\n",
       "      <td>Oshawa</td>\n",
       "      <td>43.90635</td>\n",
       "      <td>-78.87251</td>\n",
       "      <td>POINT (43.906 -78.873)</td>\n",
       "    </tr>\n",
       "    <tr>\n",
       "      <th>17404</th>\n",
       "      <td>5387037</td>\n",
       "      <td>2017-06-21 00:01:39.167</td>\n",
       "      <td>CA</td>\n",
       "      <td>QC</td>\n",
       "      <td>Chibougamau</td>\n",
       "      <td>49.91680</td>\n",
       "      <td>-74.36590</td>\n",
       "      <td>POINT (49.917 -74.366)</td>\n",
       "    </tr>\n",
       "  </tbody>\n",
       "</table>\n",
       "</div>"
      ],
      "text/plain": [
       "           _ID                   TimeSt Country Province         City  \\\n",
       "0      4516516  2017-06-21 00:00:00.143      CA       ON     Waterloo   \n",
       "169    4524947  2017-06-21 00:00:06.163      CA       ON    Kitchener   \n",
       "17265  5380915  2017-06-21 00:01:02.690      CA       AB      Calgary   \n",
       "401    4536827  2017-06-21 00:01:06.527      CA       ON       Oshawa   \n",
       "17404  5387037  2017-06-21 00:01:39.167      CA       QC  Chibougamau   \n",
       "\n",
       "       Latitude  Longitude                 geometry  \n",
       "0      43.49347  -80.49123   POINT (43.493 -80.491)  \n",
       "169    43.43060  -80.48770   POINT (43.431 -80.488)  \n",
       "17265  51.15880 -113.96360  POINT (51.159 -113.964)  \n",
       "401    43.90635  -78.87251   POINT (43.906 -78.873)  \n",
       "17404  49.91680  -74.36590   POINT (49.917 -74.366)  "
      ]
     },
     "execution_count": 13,
     "metadata": {},
     "output_type": "execute_result"
    }
   ],
   "source": [
    "# After converting the data into geospatial data, we will check the type of df_clean dataframe and column coordinates/geometry data again...\n",
    "gpd1 = gpd.GeoDataFrame(df_clean, geometry='geometry')\n",
    "gpd1.head()"
   ]
  },
  {
   "cell_type": "code",
   "execution_count": 14,
   "id": "65727cef-0d5e-4c94-b479-5ddad953bd56",
   "metadata": {},
   "outputs": [
    {
     "data": {
      "text/plain": [
       "geopandas.geodataframe.GeoDataFrame"
      ]
     },
     "execution_count": 14,
     "metadata": {},
     "output_type": "execute_result"
    }
   ],
   "source": [
    "type(gpd1)"
   ]
  },
  {
   "cell_type": "code",
   "execution_count": 15,
   "id": "96797caa-3554-4710-8705-11123b771952",
   "metadata": {},
   "outputs": [
    {
     "data": {
      "text/plain": [
       "geopandas.geoseries.GeoSeries"
      ]
     },
     "execution_count": 15,
     "metadata": {},
     "output_type": "execute_result"
    }
   ],
   "source": [
    "type(gpd1['geometry'])"
   ]
  },
  {
   "cell_type": "code",
   "execution_count": 16,
   "id": "c35ae3d6-bc26-4e9f-ac9f-88b840a90e29",
   "metadata": {},
   "outputs": [
    {
     "data": {
      "text/plain": [
       "pandas.core.frame.DataFrame"
      ]
     },
     "execution_count": 16,
     "metadata": {},
     "output_type": "execute_result"
    }
   ],
   "source": [
    "# Step 2ii: Checking the type of the df2 dataframe and column coordinates/geometry of df2 data\n",
    "type(df2)"
   ]
  },
  {
   "cell_type": "code",
   "execution_count": 17,
   "id": "bf52e9c9-b358-4561-a749-d9b7280d05b2",
   "metadata": {},
   "outputs": [
    {
     "data": {
      "text/plain": [
       "pandas.core.series.Series"
      ]
     },
     "execution_count": 17,
     "metadata": {},
     "output_type": "execute_result"
    }
   ],
   "source": [
    "type(df2['geometry'])"
   ]
  },
  {
   "cell_type": "code",
   "execution_count": 18,
   "id": "3b16ef48-a4ef-46c3-a0f3-2295654e7d4a",
   "metadata": {},
   "outputs": [
    {
     "data": {
      "text/html": [
       "<div>\n",
       "<style scoped>\n",
       "    .dataframe tbody tr th:only-of-type {\n",
       "        vertical-align: middle;\n",
       "    }\n",
       "\n",
       "    .dataframe tbody tr th {\n",
       "        vertical-align: top;\n",
       "    }\n",
       "\n",
       "    .dataframe thead th {\n",
       "        text-align: right;\n",
       "    }\n",
       "</style>\n",
       "<table border=\"1\" class=\"dataframe\">\n",
       "  <thead>\n",
       "    <tr style=\"text-align: right;\">\n",
       "      <th></th>\n",
       "      <th>POIID</th>\n",
       "      <th>Latitude</th>\n",
       "      <th>Longitude</th>\n",
       "      <th>geometry</th>\n",
       "    </tr>\n",
       "  </thead>\n",
       "  <tbody>\n",
       "    <tr>\n",
       "      <th>0</th>\n",
       "      <td>POI1</td>\n",
       "      <td>53.546167</td>\n",
       "      <td>-113.485734</td>\n",
       "      <td>POINT (53.546 -113.486)</td>\n",
       "    </tr>\n",
       "    <tr>\n",
       "      <th>1</th>\n",
       "      <td>POI2</td>\n",
       "      <td>53.546167</td>\n",
       "      <td>-113.485734</td>\n",
       "      <td>POINT (53.546 -113.486)</td>\n",
       "    </tr>\n",
       "    <tr>\n",
       "      <th>2</th>\n",
       "      <td>POI3</td>\n",
       "      <td>45.521629</td>\n",
       "      <td>-73.566024</td>\n",
       "      <td>POINT (45.522 -73.566)</td>\n",
       "    </tr>\n",
       "    <tr>\n",
       "      <th>3</th>\n",
       "      <td>POI4</td>\n",
       "      <td>45.224830</td>\n",
       "      <td>-63.232729</td>\n",
       "      <td>POINT (45.225 -63.233)</td>\n",
       "    </tr>\n",
       "  </tbody>\n",
       "</table>\n",
       "</div>"
      ],
      "text/plain": [
       "  POIID   Latitude   Longitude                 geometry\n",
       "0  POI1  53.546167 -113.485734  POINT (53.546 -113.486)\n",
       "1  POI2  53.546167 -113.485734  POINT (53.546 -113.486)\n",
       "2  POI3  45.521629  -73.566024   POINT (45.522 -73.566)\n",
       "3  POI4  45.224830  -63.232729   POINT (45.225 -63.233)"
      ]
     },
     "execution_count": 18,
     "metadata": {},
     "output_type": "execute_result"
    }
   ],
   "source": [
    "# After converting the data into geospatial data, we will check the type of df2 dataframe and column coordinates/geometry data again...\n",
    "gpd2 = gpd.GeoDataFrame(df2, geometry='geometry')\n",
    "gpd2.head()"
   ]
  },
  {
   "cell_type": "code",
   "execution_count": 19,
   "id": "2e9d305f-6c56-4954-8449-fe649a2a3b93",
   "metadata": {},
   "outputs": [
    {
     "data": {
      "text/plain": [
       "geopandas.geodataframe.GeoDataFrame"
      ]
     },
     "execution_count": 19,
     "metadata": {},
     "output_type": "execute_result"
    }
   ],
   "source": [
    "type(gpd2)"
   ]
  },
  {
   "cell_type": "code",
   "execution_count": 20,
   "id": "e16489aa-3216-4d17-9b8f-1b4844c91c5a",
   "metadata": {},
   "outputs": [
    {
     "data": {
      "text/plain": [
       "geopandas.geoseries.GeoSeries"
      ]
     },
     "execution_count": 20,
     "metadata": {},
     "output_type": "execute_result"
    }
   ],
   "source": [
    "type(gpd2['geometry'])"
   ]
  },
  {
   "cell_type": "code",
   "execution_count": 21,
   "id": "50c88c9a-bd7f-492e-9604-f877ff7ce6bd",
   "metadata": {},
   "outputs": [
    {
     "name": "stdout",
     "output_type": "stream",
     "text": [
      "  POIID   Latitude   Longitude                 geometry\n",
      "0  POI1  53.546167 -113.485734  POINT (53.546 -113.486)\n",
      "1  POI2  53.546167 -113.485734  POINT (53.546 -113.486)\n",
      "2  POI3  45.521629  -73.566024   POINT (45.522 -73.566)\n",
      "3  POI4  45.224830  -63.232729   POINT (45.225 -63.233) \n",
      "--------\n",
      "           _ID                   TimeSt Country Province         City  \\\n",
      "0      4516516  2017-06-21 00:00:00.143      CA       ON     Waterloo   \n",
      "169    4524947  2017-06-21 00:00:06.163      CA       ON    Kitchener   \n",
      "17265  5380915  2017-06-21 00:01:02.690      CA       AB      Calgary   \n",
      "401    4536827  2017-06-21 00:01:06.527      CA       ON       Oshawa   \n",
      "17404  5387037  2017-06-21 00:01:39.167      CA       QC  Chibougamau   \n",
      "\n",
      "       Latitude  Longitude                 geometry  \n",
      "0      43.49347  -80.49123   POINT (43.493 -80.491)  \n",
      "169    43.43060  -80.48770   POINT (43.431 -80.488)  \n",
      "17265  51.15880 -113.96360  POINT (51.159 -113.964)  \n",
      "401    43.90635  -78.87251   POINT (43.906 -78.873)  \n",
      "17404  49.91680  -74.36590   POINT (49.917 -74.366)  \n"
     ]
    }
   ],
   "source": [
    "print(gpd2.head(), '\\n--------')\n",
    "print(gpd1.head())"
   ]
  },
  {
   "cell_type": "code",
   "execution_count": 22,
   "id": "57ea93c1-113b-478a-bbdd-14766469dbac",
   "metadata": {},
   "outputs": [
    {
     "data": {
      "image/png": "[encoded data removed]",
      "text/plain": [
       "<Figure size 1440x720 with 2 Axes>"
      ]
     },
     "metadata": {
      "needs_background": "light"
     },
     "output_type": "display_data"
    },
    {
     "data": {
      "image/png": "[encoded data removed]",
      "text/plain": [
       "<Figure size 1440x720 with 1 Axes>"
      ]
     },
     "metadata": {
      "needs_background": "light"
     },
     "output_type": "display_data"
    },
    {
     "data": {
      "image/png": "[encoded data removed]",
      "text/plain": [
       "<Figure size 1440x720 with 1 Axes>"
      ]
     },
     "metadata": {
      "needs_background": "light"
     },
     "output_type": "display_data"
    }
   ],
   "source": [
    "fig, axes=plt.subplots(nrows=1, ncols=2, figsize=(20,10))\n",
    "\n",
    "# Plot POIList\n",
    "gpd2.plot(ax=axes[0],markersize=0.2, alpha=0.5)\n",
    "gpd2.plot(figsize=(20,10));\n",
    "axes[0].set_title('POIList')\n",
    "\n",
    "# Plot DataSample\n",
    "gpd1.plot(ax=axes[1], markersize=0.2, alpha=0.5, color='red')\n",
    "gpd1.plot(figsize=(20,10))\n",
    "axes[1].set_title('DataSample');"
   ]
  },
  {
   "cell_type": "code",
   "execution_count": 23,
   "id": "ea0cfcd8-6a85-4658-aa29-adda639725b4",
   "metadata": {},
   "outputs": [],
   "source": [
    "def get_nearest(src_points, candidates, k_neighbors=1):\n",
    "    \"\"\"Find nearest neighbors for all source points from a set of candidate points\"\"\"\n",
    "\n",
    "    # Create tree from the candidate points\n",
    "    tree = BallTree(candidates, leaf_size=15, metric='haversine')\n",
    "\n",
    "    # Find closest points and distances\n",
    "    distances, indices = tree.query(src_points, k=k_neighbors)\n",
    "\n",
    "    # Transpose to get distances and indices into arrays\n",
    "    distances = distances.transpose()\n",
    "    indices = indices.transpose()\n",
    "\n",
    "    # Get closest indices and distances (i.e. array at index 0)\n",
    "    # note: for the second closest points, you would take index 1, etc.\n",
    "    closest = indices[0]\n",
    "    closest_dist = distances[0]\n",
    "\n",
    "    # Return indices and distances\n",
    "    return (closest, closest_dist)\n",
    "\n",
    "\n",
    "def nearest_neighbor(left_gdf, right_gdf, return_dist=False):\n",
    "    \"\"\"\n",
    "    For each point in left_gdf, find closest point in right GeoDataFrame and return them.\n",
    "\n",
    "    NOTICE: Assumes that the input Points are in WGS84 projection (lat/lon).\n",
    "    \"\"\"\n",
    "\n",
    "    left_geom_col = left_gdf.geometry.name\n",
    "    right_geom_col = right_gdf.geometry.name\n",
    "\n",
    "    # Ensure that index in right gdf is formed of sequential numbers\n",
    "    right = right_gdf.copy().reset_index(drop=True)\n",
    "\n",
    "    # Parse coordinates from points and insert them into a numpy array as RADIANS\n",
    "    left_radians = np.array(left_gdf[left_geom_col].apply(lambda geom: (geom.x * np.pi / 180, geom.y * np.pi / 180)).to_list())\n",
    "    right_radians = np.array(right[right_geom_col].apply(lambda geom: (geom.x * np.pi / 180, geom.y * np.pi / 180)).to_list())\n",
    "\n",
    "    # Find the nearest points\n",
    "    # -----------------------\n",
    "    # closest ==> index in right_gdf that corresponds to the closest point\n",
    "    # dist ==> distance between the nearest neighbors (in meters)\n",
    "\n",
    "    closest, dist = get_nearest(src_points=left_radians, candidates=right_radians)\n",
    "\n",
    "    # Return points from right GeoDataFrame that are closest to points in left GeoDataFrame\n",
    "    closest_points = right.loc[closest]\n",
    "\n",
    "    # Ensure that the index corresponds the one in left_gdf\n",
    "    closest_points = closest_points.reset_index(drop=True)\n",
    "\n",
    "    # Add distance if requested\n",
    "    if return_dist:\n",
    "        # Convert to meters from radians\n",
    "        earth_radius = 6371000  # meters\n",
    "        closest_points['distance'] = dist * earth_radius\n",
    "\n",
    "    return closest_points"
   ]
  },
  {
   "cell_type": "code",
   "execution_count": 24,
   "id": "0637057c-0165-4cb8-8457-34728b887691",
   "metadata": {},
   "outputs": [
    {
     "data": {
      "text/html": [
       "<div>\n",
       "<style scoped>\n",
       "    .dataframe tbody tr th:only-of-type {\n",
       "        vertical-align: middle;\n",
       "    }\n",
       "\n",
       "    .dataframe tbody tr th {\n",
       "        vertical-align: top;\n",
       "    }\n",
       "\n",
       "    .dataframe thead th {\n",
       "        text-align: right;\n",
       "    }\n",
       "</style>\n",
       "<table border=\"1\" class=\"dataframe\">\n",
       "  <thead>\n",
       "    <tr style=\"text-align: right;\">\n",
       "      <th></th>\n",
       "      <th>_ID</th>\n",
       "      <th>TimeSt</th>\n",
       "      <th>Country</th>\n",
       "      <th>Province</th>\n",
       "      <th>City</th>\n",
       "      <th>Latitude</th>\n",
       "      <th>Longitude</th>\n",
       "      <th>geometry</th>\n",
       "      <th>distance</th>\n",
       "    </tr>\n",
       "  </thead>\n",
       "  <tbody>\n",
       "    <tr>\n",
       "      <th>0</th>\n",
       "      <td>5039366</td>\n",
       "      <td>2017-06-21 04:36:43.390</td>\n",
       "      <td>CA</td>\n",
       "      <td>AB</td>\n",
       "      <td>Edmonton</td>\n",
       "      <td>53.54636</td>\n",
       "      <td>-113.48047</td>\n",
       "      <td>POINT (53.546 -113.480)</td>\n",
       "      <td>348.449138</td>\n",
       "    </tr>\n",
       "    <tr>\n",
       "      <th>1</th>\n",
       "      <td>5039366</td>\n",
       "      <td>2017-06-21 04:36:43.390</td>\n",
       "      <td>CA</td>\n",
       "      <td>AB</td>\n",
       "      <td>Edmonton</td>\n",
       "      <td>53.54636</td>\n",
       "      <td>-113.48047</td>\n",
       "      <td>POINT (53.546 -113.480)</td>\n",
       "      <td>348.449138</td>\n",
       "    </tr>\n",
       "    <tr>\n",
       "      <th>2</th>\n",
       "      <td>5332594</td>\n",
       "      <td>2017-06-21 06:57:15.550</td>\n",
       "      <td>CA</td>\n",
       "      <td>QC</td>\n",
       "      <td>Montréal</td>\n",
       "      <td>45.51515</td>\n",
       "      <td>-73.56129</td>\n",
       "      <td>POINT (45.515 -73.561)</td>\n",
       "      <td>809.359040</td>\n",
       "    </tr>\n",
       "    <tr>\n",
       "      <th>3</th>\n",
       "      <td>4890606</td>\n",
       "      <td>2017-06-21 07:26:39.330</td>\n",
       "      <td>CA</td>\n",
       "      <td>NS</td>\n",
       "      <td>Truro</td>\n",
       "      <td>45.36940</td>\n",
       "      <td>-63.27970</td>\n",
       "      <td>POINT (45.369 -63.280)</td>\n",
       "      <td>16489.941143</td>\n",
       "    </tr>\n",
       "  </tbody>\n",
       "</table>\n",
       "</div>"
      ],
      "text/plain": [
       "       _ID                   TimeSt Country Province      City  Latitude  \\\n",
       "0  5039366  2017-06-21 04:36:43.390      CA       AB  Edmonton  53.54636   \n",
       "1  5039366  2017-06-21 04:36:43.390      CA       AB  Edmonton  53.54636   \n",
       "2  5332594  2017-06-21 06:57:15.550      CA       QC  Montréal  45.51515   \n",
       "3  4890606  2017-06-21 07:26:39.330      CA       NS     Truro  45.36940   \n",
       "\n",
       "   Longitude                 geometry      distance  \n",
       "0 -113.48047  POINT (53.546 -113.480)    348.449138  \n",
       "1 -113.48047  POINT (53.546 -113.480)    348.449138  \n",
       "2  -73.56129   POINT (45.515 -73.561)    809.359040  \n",
       "3  -63.27970   POINT (45.369 -63.280)  16489.941143  "
      ]
     },
     "execution_count": 24,
     "metadata": {},
     "output_type": "execute_result"
    }
   ],
   "source": [
    "# Find closest stop for each Point of Interest and get also the distance based on haversine distance\n",
    "# Note: haversine distance which is implemented here is a bit slower than using e.g. 'euclidean' metric\n",
    "# but useful as we get the distance between points in meters\n",
    "closest_stops = nearest_neighbor(gpd2, gpd1, return_dist=True)\n",
    "\n",
    "# And the result looks like ..\n",
    "closest_stops"
   ]
  },
  {
   "cell_type": "code",
   "execution_count": 25,
   "id": "fe87bae3-ee44-49ce-a93b-084a2bbced27",
   "metadata": {},
   "outputs": [
    {
     "name": "stdout",
     "output_type": "stream",
     "text": [
      "4 == 4\n"
     ]
    }
   ],
   "source": [
    "# Now we should have exactly the same number of closest_stops as we have Point of Interest\n",
    "print(len(closest_stops), '==', len(gpd2))"
   ]
  },
  {
   "cell_type": "code",
   "execution_count": 26,
   "id": "104e742c-830c-4ae0-bcf2-729dbe79ded9",
   "metadata": {},
   "outputs": [
    {
     "data": {
      "text/html": [
       "<div>\n",
       "<style scoped>\n",
       "    .dataframe tbody tr th:only-of-type {\n",
       "        vertical-align: middle;\n",
       "    }\n",
       "\n",
       "    .dataframe tbody tr th {\n",
       "        vertical-align: top;\n",
       "    }\n",
       "\n",
       "    .dataframe thead th {\n",
       "        text-align: right;\n",
       "    }\n",
       "</style>\n",
       "<table border=\"1\" class=\"dataframe\">\n",
       "  <thead>\n",
       "    <tr style=\"text-align: right;\">\n",
       "      <th></th>\n",
       "      <th>POIID</th>\n",
       "      <th>Latitude_left</th>\n",
       "      <th>Longitude_left</th>\n",
       "      <th>geometry</th>\n",
       "      <th>_ID</th>\n",
       "      <th>TimeSt</th>\n",
       "      <th>Country</th>\n",
       "      <th>Province</th>\n",
       "      <th>City</th>\n",
       "      <th>Latitude_right</th>\n",
       "      <th>Longitude_right</th>\n",
       "      <th>closest_stop_geom</th>\n",
       "      <th>distance</th>\n",
       "    </tr>\n",
       "  </thead>\n",
       "  <tbody>\n",
       "    <tr>\n",
       "      <th>0</th>\n",
       "      <td>POI1</td>\n",
       "      <td>53.546167</td>\n",
       "      <td>-113.485734</td>\n",
       "      <td>POINT (53.546 -113.486)</td>\n",
       "      <td>5039366</td>\n",
       "      <td>2017-06-21 04:36:43.390</td>\n",
       "      <td>CA</td>\n",
       "      <td>AB</td>\n",
       "      <td>Edmonton</td>\n",
       "      <td>53.54636</td>\n",
       "      <td>-113.48047</td>\n",
       "      <td>POINT (53.546 -113.480)</td>\n",
       "      <td>348.449138</td>\n",
       "    </tr>\n",
       "    <tr>\n",
       "      <th>1</th>\n",
       "      <td>POI2</td>\n",
       "      <td>53.546167</td>\n",
       "      <td>-113.485734</td>\n",
       "      <td>POINT (53.546 -113.486)</td>\n",
       "      <td>5039366</td>\n",
       "      <td>2017-06-21 04:36:43.390</td>\n",
       "      <td>CA</td>\n",
       "      <td>AB</td>\n",
       "      <td>Edmonton</td>\n",
       "      <td>53.54636</td>\n",
       "      <td>-113.48047</td>\n",
       "      <td>POINT (53.546 -113.480)</td>\n",
       "      <td>348.449138</td>\n",
       "    </tr>\n",
       "    <tr>\n",
       "      <th>2</th>\n",
       "      <td>POI3</td>\n",
       "      <td>45.521629</td>\n",
       "      <td>-73.566024</td>\n",
       "      <td>POINT (45.522 -73.566)</td>\n",
       "      <td>5332594</td>\n",
       "      <td>2017-06-21 06:57:15.550</td>\n",
       "      <td>CA</td>\n",
       "      <td>QC</td>\n",
       "      <td>Montréal</td>\n",
       "      <td>45.51515</td>\n",
       "      <td>-73.56129</td>\n",
       "      <td>POINT (45.515 -73.561)</td>\n",
       "      <td>809.359040</td>\n",
       "    </tr>\n",
       "    <tr>\n",
       "      <th>3</th>\n",
       "      <td>POI4</td>\n",
       "      <td>45.224830</td>\n",
       "      <td>-63.232729</td>\n",
       "      <td>POINT (45.225 -63.233)</td>\n",
       "      <td>4890606</td>\n",
       "      <td>2017-06-21 07:26:39.330</td>\n",
       "      <td>CA</td>\n",
       "      <td>NS</td>\n",
       "      <td>Truro</td>\n",
       "      <td>45.36940</td>\n",
       "      <td>-63.27970</td>\n",
       "      <td>POINT (45.369 -63.280)</td>\n",
       "      <td>16489.941143</td>\n",
       "    </tr>\n",
       "  </tbody>\n",
       "</table>\n",
       "</div>"
      ],
      "text/plain": [
       "  POIID  Latitude_left  Longitude_left                 geometry      _ID  \\\n",
       "0  POI1      53.546167     -113.485734  POINT (53.546 -113.486)  5039366   \n",
       "1  POI2      53.546167     -113.485734  POINT (53.546 -113.486)  5039366   \n",
       "2  POI3      45.521629      -73.566024   POINT (45.522 -73.566)  5332594   \n",
       "3  POI4      45.224830      -63.232729   POINT (45.225 -63.233)  4890606   \n",
       "\n",
       "                    TimeSt Country Province      City  Latitude_right  \\\n",
       "0  2017-06-21 04:36:43.390      CA       AB  Edmonton        53.54636   \n",
       "1  2017-06-21 04:36:43.390      CA       AB  Edmonton        53.54636   \n",
       "2  2017-06-21 06:57:15.550      CA       QC  Montréal        45.51515   \n",
       "3  2017-06-21 07:26:39.330      CA       NS     Truro        45.36940   \n",
       "\n",
       "   Longitude_right        closest_stop_geom      distance  \n",
       "0       -113.48047  POINT (53.546 -113.480)    348.449138  \n",
       "1       -113.48047  POINT (53.546 -113.480)    348.449138  \n",
       "2        -73.56129   POINT (45.515 -73.561)    809.359040  \n",
       "3        -63.27970   POINT (45.369 -63.280)  16489.941143  "
      ]
     },
     "execution_count": 26,
     "metadata": {},
     "output_type": "execute_result"
    }
   ],
   "source": [
    "# Rename the geometry of closest stops gdf so that we can easily identify it\n",
    "closest_stops = closest_stops.rename(columns={'geometry': 'closest_stop_geom'})\n",
    "\n",
    "# Merge the datasets by index (for this, it is good to use '.join()' -function). Note that without passing the how, lsuffix and rsuffix arguments, you'll likely get a \"ValueError: columns overlap\"\n",
    "gpd2 = gpd2.join(closest_stops, how = 'left', lsuffix = '_left', rsuffix = '_right')\n",
    "\n",
    "# Let's see what we have\n",
    "gpd2.head()"
   ]
  },
  {
   "cell_type": "markdown",
   "id": "0d2ded71-4e00-4d84-986e-b19f64ea4fb8",
   "metadata": {},
   "source": [
    "## 3. Analysis"
   ]
  },
  {
   "cell_type": "code",
   "execution_count": 27,
   "id": "10fd9c4d-2295-4476-89a0-48fca2c25a8c",
   "metadata": {},
   "outputs": [
    {
     "data": {
      "text/plain": [
       "count        4.000000\n",
       "mean      4499.049615\n",
       "std       7996.879909\n",
       "min        348.449138\n",
       "25%        348.449138\n",
       "50%        578.904089\n",
       "75%       4729.504566\n",
       "max      16489.941143\n",
       "Name: distance, dtype: float64"
      ]
     },
     "execution_count": 27,
     "metadata": {},
     "output_type": "execute_result"
    }
   ],
   "source": [
    "# 1. For each POI, we'll calculate the average and standard deviation of the distance between the POI to each of its assigned requests.\n",
    "\n",
    "gpd2['distance'].describe()"
   ]
  },
  {
   "cell_type": "code",
   "execution_count": 28,
   "id": "419c3702-3292-4d96-93dc-23f705e31307",
   "metadata": {},
   "outputs": [
    {
     "data": {
      "text/plain": [
       "<AxesSubplot:>"
      ]
     },
     "execution_count": 28,
     "metadata": {},
     "output_type": "execute_result"
    },
    {
     "data": {
      "image/png": "[encoded data removed]",
      "text/plain": [
       "<Figure size 1440x720 with 1 Axes>"
      ]
     },
     "metadata": {
      "needs_background": "light"
     },
     "output_type": "display_data"
    }
   ],
   "source": [
    "gpd2.plot(column='distance', markersize=0.2, alpha=0.5, figsize=(20,10), scheme='quantiles', k=4,legend=True)"
   ]
  },
  {
   "cell_type": "code",
   "execution_count": 29,
   "id": "83ff9871-307f-4f6d-a9c1-da2844edf290",
   "metadata": {},
   "outputs": [],
   "source": [
    "# from shapely.geometry import LineString\n",
    "\n",
    "# Create a link (LineString) between Point of Interest and DataSample points\n",
    "gpd2['link'] = gpd2.apply(lambda row: LineString([row['geometry'], row['closest_stop_geom']]), axis=1)\n",
    "\n",
    "# Set link as the active geometry\n",
    "gpd2_links = gpd2.copy()\n",
    "gpd2_links = gpd2_links.set_geometry('link')"
   ]
  },
  {
   "cell_type": "code",
   "execution_count": 30,
   "id": "ef80d2a7-d1ca-44c3-8245-7a2196c3ad06",
   "metadata": {},
   "outputs": [
    {
     "data": {
      "image/png": "[encoded data removed]",
      "text/plain": [
       "<Figure size 936x720 with 1 Axes>"
      ]
     },
     "metadata": {
      "needs_background": "light"
     },
     "output_type": "display_data"
    }
   ],
   "source": [
    "# Plot the connecting links between Point of Interest and DataSample and color them based on distance\n",
    "ax = gpd2_links.plot(column='distance', cmap='Greens', scheme='quantiles', k=4, alpha=0.8, lw=0.7, figsize=(13, 10))\n",
    "ax = gpd2.plot(ax=ax, color='yellow', markersize=1, alpha=0.7)\n",
    "ax = gpd1.plot(ax=ax, markersize=4, marker='o', color='red', alpha=0.9, zorder=3)\n",
    "\n",
    "# Zoom closer\n",
    "ax.set_xlim([24.99, 25.01])\n",
    "ax.set_ylim([60.26, 60.275])\n",
    "\n",
    "# Set map background color to black, which helps with contrast\n",
    "ax.set_facecolor('black')"
   ]
  },
  {
   "cell_type": "markdown",
   "id": "5d93f573-eab4-4d96-aed8-1dcc6804f79e",
   "metadata": {},
   "source": [
    "## 4. Data Science/Engineering Tracks"
   ]
  },
  {
   "cell_type": "code",
   "execution_count": 31,
   "id": "ea26d9e4-5a26-47d5-a204-e36e48e51d78",
   "metadata": {},
   "outputs": [
    {
     "data": {
      "text/plain": [
       "'\\ndf2.to_csv(\"dfn.xyz\", index=False, header=None, sep=\" \")\\ndemn = gdal.Translate(\"demn.tiff\", \"dfn.xyz\", outputSRS = \"EPSG:32719\")\\ndemn = None\\n'"
      ]
     },
     "execution_count": 31,
     "metadata": {},
     "output_type": "execute_result"
    }
   ],
   "source": [
    "from osgeo import gdal\n",
    "'''\n",
    "df2.to_csv(\"dfn.xyz\", index=False, header=None, sep=\" \")\n",
    "demn = gdal.Translate(\"demn.tiff\", \"dfn.xyz\", outputSRS = \"EPSG:32719\")\n",
    "demn = None\n",
    "'''"
   ]
  },
  {
   "cell_type": "markdown",
   "id": "50e42021-dcc9-42f0-a26b-3cc739c4316e",
   "metadata": {},
   "source": [
    "## 4a. Model"
   ]
  },
  {
   "cell_type": "code",
   "execution_count": 32,
   "id": "07e34f6b-3721-46fd-a9e5-9540edb5dab5",
   "metadata": {},
   "outputs": [
    {
     "name": "stderr",
     "output_type": "stream",
     "text": [
      "C:\\ProgramData\\Anaconda3\\envs\\gis\\lib\\site-packages\\rasterio\\__init__.py:220: NotGeoreferencedWarning: Dataset has no geotransform, gcps, or rpcs. The identity matrix be returned.\n",
      "  s = DatasetReader(path, driver=driver, sharing=sharing, **kwargs)\n"
     ]
    },
    {
     "data": {
      "image/png": "[encoded data removed]",
      "text/plain": [
       "<Figure size 432x288 with 1 Axes>"
      ]
     },
     "metadata": {
      "needs_background": "light"
     },
     "output_type": "display_data"
    },
    {
     "data": {
      "text/plain": [
       "<AxesSubplot:>"
      ]
     },
     "execution_count": 32,
     "metadata": {},
     "output_type": "execute_result"
    }
   ],
   "source": [
    "# Visualizing the popularity of each POI, by mapping them to a scale that ranges from -10 to 10. With an aim to be more sensitive around the average and give as much visual differentiability as possible.\n",
    "\n",
    "import rasterio\n",
    "from rasterio.plot import show\n",
    "import numpy as np\n",
    "import os\n",
    "%matplotlib inline\n",
    "\n",
    "\n",
    "# Data dir\n",
    "data_dir = r\"C:\\Users\\Nonso Onyia\\Desktop\\eqworks_ challenge\"\n",
    "\n",
    "# Filepath\n",
    "fp = os.path.join(data_dir, \"POIList.tiff\")\n",
    "\n",
    "# Open the file:\n",
    "raster = rasterio.open(fp)\n",
    "'''\n",
    "def export_window(fp, path):\n",
    "    number_of_bands, height, width = fp.shape\n",
    "\n",
    "    profile = {\n",
    "        \"driver\": \"JPEG\",\n",
    "        \"count\": number_of_bands,\n",
    "        \"height\": height,\n",
    "        \"width\": width,\n",
    "        'dtype': 'uint8',\n",
    "        'transform': rasterio.Affine(1),\n",
    "    }\n",
    "    with rasterio.open(path, 'fp', **profile) as dst:\n",
    "        dst.write(fp)\n",
    "'''\n",
    "\n",
    "# Plot band 1\n",
    "show((raster, 1))"
   ]
  },
  {
   "cell_type": "code",
   "execution_count": 33,
   "id": "5b90b3df-14f8-4542-b2d2-a6aa90978fdb",
   "metadata": {},
   "outputs": [
    {
     "data": {
      "text/plain": [
       "Text(0.5, 1.0, 'Blue')"
      ]
     },
     "execution_count": 33,
     "metadata": {},
     "output_type": "execute_result"
    },
    {
     "data": {
      "image/png": "[encoded data removed]",
      "text/plain": [
       "<Figure size 720x288 with 3 Axes>"
      ]
     },
     "metadata": {
      "needs_background": "light"
     },
     "output_type": "display_data"
    }
   ],
   "source": [
    "# Initialize subplots\n",
    "fig, (ax1, ax2, ax3) = plt.subplots(ncols=3, nrows=1, figsize=(10, 4), sharey=True)\n",
    "\n",
    "# Plot Red, Green and Blue (rgb)\n",
    "show((raster, 1), cmap='Reds', ax=ax1)\n",
    "show((raster, 1), cmap='Greens', ax=ax2)\n",
    "show((raster, 1), cmap='Blues', ax=ax3)\n",
    "\n",
    "# Add titles\n",
    "ax1.set_title(\"Red\")\n",
    "ax2.set_title(\"Green\")\n",
    "ax3.set_title(\"Blue\")"
   ]
  },
  {
   "cell_type": "code",
   "execution_count": 34,
   "id": "2d4ee122-ed5a-4b36-8585-b3913e9e42b2",
   "metadata": {},
   "outputs": [
    {
     "name": "stdout",
     "output_type": "stream",
     "text": [
      "Normalized bands\n",
      "0.0 - 1.0 mean: 0.9907075738676151\n",
      "0.0 - 1.0 mean: 0.9907075738676151\n",
      "0.0 - 1.0 mean: 0.9907075738676151\n"
     ]
    }
   ],
   "source": [
    "# Read the grid values into numpy arrays\n",
    "red = raster.read(1)\n",
    "green = raster.read(1)\n",
    "blue = raster.read(1)\n",
    "\n",
    "# Function to normalize the grid values\n",
    "def normalize(array):\n",
    "    \"\"\"Normalizes numpy arrays into scale -10 - 10\"\"\"\n",
    "    array_min, array_max = array.min(), array.max()\n",
    "    return ((array - array_min)/(array_max - array_min))\n",
    "\n",
    "# Normalize the bands\n",
    "redn = normalize(red)\n",
    "greenn = normalize(green)\n",
    "bluen = normalize(blue)\n",
    "\n",
    "print(\"Normalized bands\")\n",
    "print(redn.min(), '-', redn.max(), 'mean:', redn.mean())\n",
    "print(greenn.min(), '-', greenn.max(), 'mean:', greenn.mean())\n",
    "print(bluen.min(), '-', bluen.max(), 'mean:', bluen.mean())"
   ]
  },
  {
   "cell_type": "code",
   "execution_count": 35,
   "id": "d94d48b5-61bd-47e3-a24c-7652fdc5e5b6",
   "metadata": {},
   "outputs": [
    {
     "data": {
      "image/png": "[encoded data removed]",
      "text/plain": [
       "<Figure size 432x288 with 1 Axes>"
      ]
     },
     "metadata": {
      "needs_background": "light"
     },
     "output_type": "display_data"
    }
   ],
   "source": [
    "from rasterio.plot import show_hist\n",
    "\n",
    "show_hist(raster, bins=50, lw=0.0, stacked=False, alpha=0.3, histtype='stepfilled', title=\"Histogram\")"
   ]
  },
  {
   "cell_type": "code",
   "execution_count": null,
   "id": "2b1ee04a-2f7a-4d42-85ea-769e95ae1eb8",
   "metadata": {},
   "outputs": [],
   "source": []
  },
  {
   "cell_type": "markdown",
   "id": "b5024dd3-f85c-4574-9376-2edefa0f4d50",
   "metadata": {},
   "source": [
    "## 4b. Pipeline Dependency - DAG"
   ]
  },
  {
   "cell_type": "code",
   "execution_count": 36,
   "id": "19c8fd2f-7dd2-4e3a-afff-bf6d7c5e76b4",
   "metadata": {},
   "outputs": [
    {
     "name": "stderr",
     "output_type": "stream",
     "text": [
      "WARNING:root:OSError while attempting to symlink the latest log directory\n"
     ]
    }
   ],
   "source": [
    "# Step 1: Import modules\n",
    "\n",
    "from airflow.models import DAG\n",
    "from airflow.models import BaseOperator\n",
    "from airflow.operators.subdag import SubDagOperator\n",
    "from airflow.operators.bash import BashOperator\n",
    "from airflow.operators.dummy import DummyOperator  \n",
    "#from airflow.operators.python import PythonOperator\n",
    "from datetime import datetime, timedelta"
   ]
  },
  {
   "cell_type": "code",
   "execution_count": 37,
   "id": "bb144b76-cb8e-4f72-a135-3ae49b1f70a0",
   "metadata": {},
   "outputs": [],
   "source": [
    "# Step 2: Define default arguments\n",
    "\n",
    "default_args = {\n",
    "    \"owner\": \"airflow\",\n",
    "    \"depends_on_past\": True,\n",
    "    \"start_date\": datetime(2021, 6, 7),\n",
    "    \"retries\": 1,\n",
    "    \"retry_delay\": timedelta(minutes=3)  # If a task fails, retry it once, at least every 3 minutes\n",
    "}"
   ]
  },
  {
   "cell_type": "code",
   "execution_count": 38,
   "id": "2cf98606-f7ab-47a9-951f-f0aee3d1e53b",
   "metadata": {},
   "outputs": [],
   "source": [
    "# Step 3: Create DAG Object/Instantiate the DAG\n",
    "\n",
    "dag = DAG(dag_id=\"DAG-1\", default_args=default_args, description= \"EQ_Works_DAG\", catchup=False, schedule_interval=\"@daily\")"
   ]
  },
  {
   "cell_type": "code",
   "execution_count": 39,
   "id": "aa9eaf84-1063-42ec-96ba-6d03dfcb04b7",
   "metadata": {},
   "outputs": [],
   "source": [
    "# Step 4: Define task\n",
    "# Starting_task to t18 are examples of tasks created by instantiating operators\n",
    "\n",
    "starting_task = BashOperator(\n",
    "    task_id= \"73\",\n",
    "    bash_command=\"date\",\n",
    "    dag=dag\n",
    ")\n",
    "\n",
    "t2 = BashOperator(\n",
    "    task_id= \"97\",\n",
    "    depends_on_past=True,\n",
    "    bash_command=\"sleep 10\",\n",
    "    dag=dag\n",
    ")\n",
    "\n",
    "t3 = BashOperator(\n",
    "    task_id= \"75\",\n",
    "    depends_on_past=True,\n",
    "    bash_command=\"sleep 10\",\n",
    "    dag=dag\n",
    ")\n",
    "\n",
    "t4 = BashOperator(\n",
    "    task_id= \"100\",\n",
    "    depends_on_past=True,\n",
    "    bash_command=\"sleep 10\",\n",
    "    dag=dag\n",
    ")\n",
    "\n",
    "t5 = BashOperator(\n",
    "    task_id= \"102\",\n",
    "    depends_on_past=True,\n",
    "    bash_command=\"sleep 10\",\n",
    "    dag=dag\n",
    ")\n",
    "\n",
    "t6 = BashOperator(\n",
    "    task_id= \"16\",\n",
    "    depends_on_past=True,\n",
    "    bash_command=\"sleep 10\",\n",
    "    dag=dag\n",
    ")\n",
    "\n",
    "t7 = BashOperator(\n",
    "    task_id= \"39\",\n",
    "    depends_on_past=True,\n",
    "    bash_command=\"sleep 10\",\n",
    "    dag=dag\n",
    ")\n",
    "\n",
    "t8 = BashOperator(\n",
    "    task_id= \"41\",\n",
    "    depends_on_past=True,\n",
    "    bash_command=\"sleep 10\",\n",
    "    dag=dag\n",
    ")\n",
    "\n",
    "t9 = BashOperator(\n",
    "    task_id= \"62\",\n",
    "    depends_on_past=True,\n",
    "    bash_command=\"sleep 10\",\n",
    "    dag=dag\n",
    ")\n",
    "\n",
    "t10 = BashOperator(\n",
    "    task_id= \"112\",\n",
    "    depends_on_past=True,\n",
    "    bash_command=\"sleep 10\",\n",
    "    dag=dag\n",
    ")\n",
    "\n",
    "t11 = BashOperator(\n",
    "    task_id= \"20\",\n",
    "    depends_on_past=True,\n",
    "    bash_command=\"sleep 10\",\n",
    "    dag=dag\n",
    ")\n",
    "\n",
    "t12 = BashOperator(\n",
    "    task_id= \"21\",\n",
    "    depends_on_past=True,\n",
    "    bash_command=\"sleep 10\",\n",
    "    dag=dag\n",
    ")\n",
    "\n",
    "t13 = BashOperator(\n",
    "    task_id= \"56\",\n",
    "    depends_on_past=True,\n",
    "    bash_command=\"sleep 10\",\n",
    "    dag=dag\n",
    ")\n",
    "\n",
    "t14 = BashOperator(\n",
    "    task_id= \"55\",\n",
    "    depends_on_past=True,\n",
    "    bash_command=\"sleep 10\",\n",
    "    dag=dag\n",
    ")\n",
    "\n",
    "t15 = BashOperator(\n",
    "    task_id= \"36\",\n",
    "    depends_on_past=True,\n",
    "    bash_command=\"sleep 10\",\n",
    "    dag=dag\n",
    ")\n",
    "\n",
    "t16 = BashOperator(\n",
    "    task_id= \"37\",\n",
    "    depends_on_past=True,\n",
    "    bash_command=\"sleep 10\",\n",
    "    dag=dag\n",
    ")\n",
    "\n",
    "t17 = BashOperator(\n",
    "    task_id= \"94\",\n",
    "    depends_on_past=True,\n",
    "    bash_command=\"sleep 10\",\n",
    "    dag=dag\n",
    ")\n",
    "\n",
    "templated_command = \"\"\"\n",
    "{% for i in range(5) %}\n",
    "    echo \"{{ ds }}\"\n",
    "    echo \"{{ macros.ds_add(ds, 7)}}\"\n",
    "    echo \"{{ params.my_param }}\"\n",
    "{% endfor %}\n",
    "\"\"\"\n",
    "\n",
    "t18 = BashOperator(\n",
    "    task_id= \"31\",\n",
    "    depends_on_past=True,\n",
    "    bash_command=templated_command,\n",
    "    params={\"my_param\": \"Parameter I passed in\"},\n",
    "    dag=dag\n",
    ")"
   ]
  },
  {
   "cell_type": "code",
   "execution_count": 40,
   "id": "0ad99dbf-9a79-4b4b-85a3-8e855def327a",
   "metadata": {},
   "outputs": [
    {
     "data": {
      "text/plain": [
       "<Task(BashOperator): 36>"
      ]
     },
     "execution_count": 40,
     "metadata": {},
     "output_type": "execute_result"
    }
   ],
   "source": [
    "# Step 5: Define dependencies\n",
    "\n",
    "# Using the bit shift operator to chain operations. Also note that a List of tasks can also be set as dependencies\n",
    "t2 >> t5\n",
    "t18 >> [t18, t16]\n",
    "t11 >> t4\n",
    "t5 >> [t15, t16, t18]\n",
    "t6 >> t16\n",
    "t7 >> [starting_task, t4]\n",
    "t8 >> [starting_task, t10]\n",
    "t9 >> t14\n",
    "t10 >> t2 \n",
    "t11 >> [t17, t2]\n",
    "t12 >> t11\n",
    "starting_task >> t11\n",
    "t13 >> [t5, t3, t14]\n",
    "t14 >> [t18, t16]\n",
    "t17 >> [t13, t5]\n",
    "[t13, t5] >> t15"
   ]
  },
  {
   "cell_type": "code",
   "execution_count": null,
   "id": "4c5f8e64-d5e9-41f9-9703-2c6848582312",
   "metadata": {},
   "outputs": [],
   "source": []
  }
 ],
 "metadata": {
  "kernelspec": {
   "display_name": "Python 3",
   "language": "python",
   "name": "python3"
  },
  "language_info": {
   "codemirror_mode": {
    "name": "ipython",
    "version": 3
   },
   "file_extension": ".py",
   "mimetype": "text/x-python",
   "name": "python",
   "nbconvert_exporter": "python",
   "pygments_lexer": "ipython3",
   "version": "3.9.4"
  }
 },
 "nbformat": 4,
 "nbformat_minor": 5
}
